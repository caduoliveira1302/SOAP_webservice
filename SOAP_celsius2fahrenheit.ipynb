{
 "cells": [
  {
   "attachments": {},
   "cell_type": "markdown",
   "metadata": {},
   "source": [
    "### SOAP API requests in Python"
   ]
  },
  {
   "cell_type": "code",
   "execution_count": 112,
   "metadata": {},
   "outputs": [],
   "source": [
    "import requests\n",
    "import xml.etree.ElementTree as ET\n",
    "\n",
    "def soap_api_request(celsius):\n",
    "\n",
    "    #URL\n",
    "    url = \"https://www.w3schools.com/xml/tempconvert.asmx?op=CelsiusToFahrenheit\"\n",
    "\n",
    "    #soap\n",
    "    soap_envelope = f\"\"\"\n",
    "    <soap:Envelope xmlns:xsi=\"http://www.w3.org/2001/XMLSchema-instance\" xmlns:xsd=\"http://www.w3.org/2001/XMLSchema\" xmlns:soap=\"http://schemas.xmlsoap.org/soap/envelope/\">\n",
    "    <soap:Body>\n",
    "        <CelsiusToFahrenheit xmlns=\"https://www.w3schools.com/xml/\">\n",
    "        <Celsius>{celsius}</Celsius>\n",
    "        </CelsiusToFahrenheit>\n",
    "    </soap:Body>\n",
    "    </soap:Envelope>\"\"\"\n",
    "\n",
    "    options = {\n",
    "        \"Content-Type\" : \"text/xml; charset=utf-8\"\n",
    "    }\n",
    "\n",
    "    #OUTPUT\n",
    "    result = requests.post(url, data = soap_envelope, headers=options)\n",
    "    root = ET.fromstring(result.text)\n",
    "    \n",
    "    for i in root.iter(\"{https://www.w3schools.com/xml/}CelsiusToFahrenheitResult\"):\n",
    "        print(i.text)    "
   ]
  },
  {
   "cell_type": "code",
   "execution_count": 114,
   "metadata": {},
   "outputs": [
    {
     "name": "stdout",
     "output_type": "stream",
     "text": [
      "104\n"
     ]
    }
   ],
   "source": [
    "soap_api_request(40)"
   ]
  }
 ],
 "metadata": {
  "kernelspec": {
   "display_name": "base",
   "language": "python",
   "name": "python3"
  },
  "language_info": {
   "codemirror_mode": {
    "name": "ipython",
    "version": 3
   },
   "file_extension": ".py",
   "mimetype": "text/x-python",
   "name": "python",
   "nbconvert_exporter": "python",
   "pygments_lexer": "ipython3",
   "version": "3.10.9"
  },
  "orig_nbformat": 4
 },
 "nbformat": 4,
 "nbformat_minor": 2
}
