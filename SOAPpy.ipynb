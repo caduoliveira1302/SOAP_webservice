{
 "cells": [
  {
   "cell_type": "code",
   "execution_count": 15,
   "metadata": {},
   "outputs": [],
   "source": [
    "from spyne import Application, rpc, ServiceBase, Unicode\n",
    "from spyne.protocol.soap import Soap11\n",
    "from spyne.server.wsgi import WsgiApplication"
   ]
  },
  {
   "cell_type": "code",
   "execution_count": 16,
   "metadata": {},
   "outputs": [],
   "source": [
    "class MyService(ServiceBase):\n",
    "    @rpc(Unicode, Unicode, _returns=Unicode)\n",
    "    def add_strings(ctx, str1, str2):\n",
    "        return str1 + str2"
   ]
  },
  {
   "cell_type": "code",
   "execution_count": 17,
   "metadata": {},
   "outputs": [
    {
     "ename": "ImportError",
     "evalue": "cannot import name 'XmlSchema' from 'spyne.interface' (c:\\Users\\Carlos Eduardo\\AppData\\Local\\Programs\\Python\\Python311\\Lib\\site-packages\\spyne\\interface\\__init__.py)",
     "output_type": "error",
     "traceback": [
      "\u001b[1;31m---------------------------------------------------------------------------\u001b[0m",
      "\u001b[1;31mImportError\u001b[0m                               Traceback (most recent call last)",
      "Cell \u001b[1;32mIn[17], line 1\u001b[0m\n\u001b[1;32m----> 1\u001b[0m soap_app \u001b[39m=\u001b[39m Application([MyService], tns\u001b[39m=\u001b[39;49m\u001b[39m'\u001b[39;49m\u001b[39mmy.namespace\u001b[39;49m\u001b[39m'\u001b[39;49m, in_protocol\u001b[39m=\u001b[39;49mSoap11(validator\u001b[39m=\u001b[39;49m\u001b[39m'\u001b[39;49m\u001b[39mlxml\u001b[39;49m\u001b[39m'\u001b[39;49m), out_protocol\u001b[39m=\u001b[39;49mSoap11())\n",
      "File \u001b[1;32mc:\\Users\\Carlos Eduardo\\AppData\\Local\\Programs\\Python\\Python311\\Lib\\site-packages\\spyne\\application.py:141\u001b[0m, in \u001b[0;36mApplication.__init__\u001b[1;34m(self, services, tns, name, in_protocol, out_protocol, config, classes, documents_container)\u001b[0m\n\u001b[0;32m    138\u001b[0m \u001b[39mself\u001b[39m\u001b[39m.\u001b[39minterface \u001b[39m=\u001b[39m Interface(\u001b[39mself\u001b[39m, documents_container\u001b[39m=\u001b[39mdocuments_container)\n\u001b[0;32m    140\u001b[0m \u001b[39m# set_app needs to be after interface init because the protocols use it.\u001b[39;00m\n\u001b[1;32m--> 141\u001b[0m \u001b[39mself\u001b[39;49m\u001b[39m.\u001b[39;49min_protocol\u001b[39m.\u001b[39;49mset_app(\u001b[39mself\u001b[39;49m)\n\u001b[0;32m    142\u001b[0m \u001b[39m# FIXME: this normally is another parameter to set_app but it's kept\u001b[39;00m\n\u001b[0;32m    143\u001b[0m \u001b[39m# separate for backwards compatibility reasons.\u001b[39;00m\n\u001b[0;32m    144\u001b[0m \u001b[39mself\u001b[39m\u001b[39m.\u001b[39min_protocol\u001b[39m.\u001b[39mmessage \u001b[39m=\u001b[39m \u001b[39mself\u001b[39m\u001b[39m.\u001b[39min_protocol\u001b[39m.\u001b[39mREQUEST\n",
      "File \u001b[1;32mc:\\Users\\Carlos Eduardo\\AppData\\Local\\Programs\\Python\\Python311\\Lib\\site-packages\\spyne\\protocol\\xml.py:412\u001b[0m, in \u001b[0;36mXmlDocument.set_app\u001b[1;34m(self, value)\u001b[0m\n\u001b[0;32m    409\u001b[0m \u001b[39mself\u001b[39m\u001b[39m.\u001b[39mvalidation_schema \u001b[39m=\u001b[39m \u001b[39mNone\u001b[39;00m\n\u001b[0;32m    411\u001b[0m \u001b[39mif\u001b[39;00m \u001b[39mself\u001b[39m\u001b[39m.\u001b[39mvalidator \u001b[39mis\u001b[39;00m \u001b[39mself\u001b[39m\u001b[39m.\u001b[39mSCHEMA_VALIDATION \u001b[39mand\u001b[39;00m value \u001b[39mis\u001b[39;00m \u001b[39mnot\u001b[39;00m \u001b[39mNone\u001b[39;00m:\n\u001b[1;32m--> 412\u001b[0m     xml_schema \u001b[39m=\u001b[39m \u001b[39mself\u001b[39;49m\u001b[39m.\u001b[39;49mapp\u001b[39m.\u001b[39;49minterface\u001b[39m.\u001b[39;49mdocs\u001b[39m.\u001b[39;49mxml_schema\n\u001b[0;32m    413\u001b[0m     xml_schema\u001b[39m.\u001b[39mbuild_validation_schema()\n\u001b[0;32m    414\u001b[0m     \u001b[39mself\u001b[39m\u001b[39m.\u001b[39mvalidation_schema \u001b[39m=\u001b[39m xml_schema\u001b[39m.\u001b[39mvalidation_schema\n",
      "File \u001b[1;32mc:\\Users\\Carlos Eduardo\\AppData\\Local\\Programs\\Python\\Python311\\Lib\\site-packages\\spyne\\interface\\_base.py:43\u001b[0m, in \u001b[0;36mInterfaceDocumentsBase.xml_schema\u001b[1;34m(self)\u001b[0m\n\u001b[0;32m     41\u001b[0m \u001b[39m@property\u001b[39m\n\u001b[0;32m     42\u001b[0m \u001b[39mdef\u001b[39;00m \u001b[39mxml_schema\u001b[39m(\u001b[39mself\u001b[39m):\n\u001b[1;32m---> 43\u001b[0m     \u001b[39mfrom\u001b[39;00m \u001b[39mspyne\u001b[39;00m\u001b[39m.\u001b[39;00m\u001b[39minterface\u001b[39;00m \u001b[39mimport\u001b[39;00m XmlSchema\n\u001b[0;32m     44\u001b[0m     \u001b[39massert\u001b[39;00m \u001b[39misinstance\u001b[39m(\u001b[39mself\u001b[39m\u001b[39m.\u001b[39mwsdl11, XmlSchema)\n\u001b[0;32m     45\u001b[0m     \u001b[39mreturn\u001b[39;00m \u001b[39mself\u001b[39m\u001b[39m.\u001b[39mwsdl11\n",
      "\u001b[1;31mImportError\u001b[0m: cannot import name 'XmlSchema' from 'spyne.interface' (c:\\Users\\Carlos Eduardo\\AppData\\Local\\Programs\\Python\\Python311\\Lib\\site-packages\\spyne\\interface\\__init__.py)"
     ]
    }
   ],
   "source": [
    "soap_app = Application([MyService], tns='my.namespace', in_protocol=Soap11(validator='lxml'), out_protocol=Soap11())"
   ]
  },
  {
   "cell_type": "code",
   "execution_count": 14,
   "metadata": {},
   "outputs": [
    {
     "name": "stderr",
     "output_type": "stream",
     "text": [
      "'grep' n�o � reconhecido como um comando interno\n",
      "ou externo, um programa oper�vel ou um arquivo em lotes.\n"
     ]
    }
   ],
   "source": [
    "\n"
   ]
  },
  {
   "cell_type": "code",
   "execution_count": null,
   "metadata": {},
   "outputs": [],
   "source": []
  }
 ],
 "metadata": {
  "kernelspec": {
   "display_name": "Python 3 (ipykernel)",
   "language": "python",
   "name": "python3"
  },
  "language_info": {
   "codemirror_mode": {
    "name": "ipython",
    "version": 3
   },
   "file_extension": ".py",
   "mimetype": "text/x-python",
   "name": "python",
   "nbconvert_exporter": "python",
   "pygments_lexer": "ipython3",
   "version": "3.11.3"
  }
 },
 "nbformat": 4,
 "nbformat_minor": 2
}
