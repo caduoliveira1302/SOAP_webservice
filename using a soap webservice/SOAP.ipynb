{
 "cells": [
  {
   "cell_type": "markdown",
   "metadata": {
    "id": "saf51-9gUEC8"
   },
   "source": [
    "# Integrantes\n",
    "\n",
    "Abdul Malik de Barros RA00306190\n",
    "\n",
    "Ana Carolina Zhang RA00297689\n",
    "\n",
    "Carlos Eduardo de Oliveira RA00297792\n",
    "\n",
    "Eduardo Furlani Rodrigues RA00297677\n"
   ]
  },
  {
   "cell_type": "markdown",
   "metadata": {
    "id": "8S7WviNIUecI"
   },
   "source": [
    "# 1.Conceito\n",
    "O protocolo SOAP é uma tecnologia amplamente utilizada em sistemas distribuídos e faz parte da arquitetura orientada a serviços (SOA). A\n",
    "utilização de tecnologias baseadas em XML, como WSDL e XSD, permite a estruturação e validação dos dados trocados entre os aplicativos,\n",
    "garantindo a integridade e confiabilidade da comunicação. As tecnologias usadas são: SOAP: Protocolo de comunicação baseado em XML\n",
    "utilizado para troca de informações entre aplicativos. XML: Linguagem de marcação utilizada para estruturar dados em documentos. WSDL:\n",
    "Linguagem utilizada para descrever serviços web, especificando como acessar e utilizar esses serviços. Com base na biblioteca usada, o Zeep,\n",
    "como não possui middleware por padrão, porém, criamos \"Transport\" com um tempo limite (timeout) de 10 segundos, valendo ressaltar que o\n",
    "middleware é responsável por controlar a comunicação entre o usuário e o servidor.\n"
   ]
  },
  {
   "cell_type": "markdown",
   "metadata": {
    "id": "Gdr7XuzZUiz4"
   },
   "source": [
    "# 2.Prática\n",
    "O SOAP é um protocolo de transferência de dados e o Selenium é uma ferramenta de automação de testes em navegadores. No entanto, usamos\n",
    "o Selenium para interagir com a interface do usuário do WebService, isto é, usamos o Selenium para navegar até a página do serviço da Web e\n",
    "preencher os campos do formulário"
   ]
  },
  {
   "cell_type": "code",
   "execution_count": null,
   "metadata": {},
   "outputs": [],
   "source": [
    "from zeep.transports import Transport\n",
    "from zeep import Client\n",
    "from zeep.helpers import serialize_object\n",
    "import pandas as pd\n",
    "import json"
   ]
  },
  {
   "cell_type": "code",
   "execution_count": 32,
   "metadata": {},
   "outputs": [
    {
     "data": {
      "text/html": [
       "<div>\n",
       "<style scoped>\n",
       "    .dataframe tbody tr th:only-of-type {\n",
       "        vertical-align: middle;\n",
       "    }\n",
       "\n",
       "    .dataframe tbody tr th {\n",
       "        vertical-align: top;\n",
       "    }\n",
       "\n",
       "    .dataframe thead th {\n",
       "        text-align: right;\n",
       "    }\n",
       "</style>\n",
       "<table border=\"1\" class=\"dataframe\">\n",
       "  <thead>\n",
       "    <tr style=\"text-align: right;\">\n",
       "      <th></th>\n",
       "      <th>sISOCode</th>\n",
       "      <th>sName</th>\n",
       "    </tr>\n",
       "  </thead>\n",
       "  <tbody>\n",
       "    <tr>\n",
       "      <th>0</th>\n",
       "      <td>AD</td>\n",
       "      <td>Andorra</td>\n",
       "    </tr>\n",
       "    <tr>\n",
       "      <th>1</th>\n",
       "      <td>AE</td>\n",
       "      <td>United Arab Emirates</td>\n",
       "    </tr>\n",
       "    <tr>\n",
       "      <th>2</th>\n",
       "      <td>AF</td>\n",
       "      <td>Afghanistan</td>\n",
       "    </tr>\n",
       "    <tr>\n",
       "      <th>3</th>\n",
       "      <td>AG</td>\n",
       "      <td>Antigua &amp; Barbuda</td>\n",
       "    </tr>\n",
       "    <tr>\n",
       "      <th>4</th>\n",
       "      <td>AI</td>\n",
       "      <td>Anguilla</td>\n",
       "    </tr>\n",
       "    <tr>\n",
       "      <th>...</th>\n",
       "      <td>...</td>\n",
       "      <td>...</td>\n",
       "    </tr>\n",
       "    <tr>\n",
       "      <th>241</th>\n",
       "      <td>YE</td>\n",
       "      <td>Yemen</td>\n",
       "    </tr>\n",
       "    <tr>\n",
       "      <th>242</th>\n",
       "      <td>YT</td>\n",
       "      <td>Mayotte</td>\n",
       "    </tr>\n",
       "    <tr>\n",
       "      <th>243</th>\n",
       "      <td>ZA</td>\n",
       "      <td>South Africa</td>\n",
       "    </tr>\n",
       "    <tr>\n",
       "      <th>244</th>\n",
       "      <td>ZM</td>\n",
       "      <td>Zambia</td>\n",
       "    </tr>\n",
       "    <tr>\n",
       "      <th>245</th>\n",
       "      <td>ZW</td>\n",
       "      <td>Zimbabwe</td>\n",
       "    </tr>\n",
       "  </tbody>\n",
       "</table>\n",
       "<p>246 rows × 2 columns</p>\n",
       "</div>"
      ],
      "text/plain": [
       "    sISOCode                 sName\n",
       "0         AD               Andorra\n",
       "1         AE  United Arab Emirates\n",
       "2         AF           Afghanistan\n",
       "3         AG     Antigua & Barbuda\n",
       "4         AI              Anguilla\n",
       "..       ...                   ...\n",
       "241       YE                 Yemen\n",
       "242       YT               Mayotte\n",
       "243       ZA          South Africa\n",
       "244       ZM                Zambia\n",
       "245       ZW              Zimbabwe\n",
       "\n",
       "[246 rows x 2 columns]"
      ]
     },
     "execution_count": 32,
     "metadata": {},
     "output_type": "execute_result"
    }
   ],
   "source": [
    "# Load JSON file as a Python dictionary\n",
    "with open('info.json') as f:\n",
    "    data = json.load(f)\n",
    "\n",
    "# Convert dictionary to DataFrame\n",
    "df = pd.DataFrame(data)\n",
    "df"
   ]
  },
  {
   "cell_type": "code",
   "execution_count": 52,
   "metadata": {},
   "outputs": [],
   "source": [
    "country_list=[]\n",
    "\n",
    "# Zeep config\n",
    "url_zeep = ('http://webservices.oorsprong.org/websamples.countryinfo/CountryInfoService.wso?WSDL')\n",
    "transport = Transport(timeout=10) #create middleware\n",
    "client = Client(url_zeep,transport=transport)\n",
    "\n",
    "for code in df['sISOCode']:\n",
    "    result = client.service.FullCountryInfo(code)\n",
    "    country_list.append(result)"
   ]
  },
  {
   "cell_type": "code",
   "execution_count": 60,
   "metadata": {},
   "outputs": [
    {
     "data": {
      "text/html": [
       "<div>\n",
       "<style scoped>\n",
       "    .dataframe tbody tr th:only-of-type {\n",
       "        vertical-align: middle;\n",
       "    }\n",
       "\n",
       "    .dataframe tbody tr th {\n",
       "        vertical-align: top;\n",
       "    }\n",
       "\n",
       "    .dataframe thead th {\n",
       "        text-align: right;\n",
       "    }\n",
       "</style>\n",
       "<table border=\"1\" class=\"dataframe\">\n",
       "  <thead>\n",
       "    <tr style=\"text-align: right;\">\n",
       "      <th></th>\n",
       "      <th>sISOCode</th>\n",
       "      <th>sName</th>\n",
       "      <th>sCapitalCity</th>\n",
       "      <th>sPhoneCode</th>\n",
       "      <th>sContinentCode</th>\n",
       "      <th>sCurrencyISOCode</th>\n",
       "      <th>sCountryFlag</th>\n",
       "      <th>Languages</th>\n",
       "    </tr>\n",
       "  </thead>\n",
       "  <tbody>\n",
       "    <tr>\n",
       "      <th>0</th>\n",
       "      <td>AD</td>\n",
       "      <td>Andorra</td>\n",
       "      <td>Andorra La Ville</td>\n",
       "      <td>371</td>\n",
       "      <td>EU</td>\n",
       "      <td>EUR</td>\n",
       "      <td>http://www.oorsprong.org/WebSamples.CountryInf...</td>\n",
       "      <td>{'tLanguage': [{'sISOCode': 'cat', 'sName': 'C...</td>\n",
       "    </tr>\n",
       "    <tr>\n",
       "      <th>1</th>\n",
       "      <td>AE</td>\n",
       "      <td>United Arab Emirates</td>\n",
       "      <td>Abu Dhabi</td>\n",
       "      <td>971</td>\n",
       "      <td>AS</td>\n",
       "      <td>AED</td>\n",
       "      <td>http://www.oorsprong.org/WebSamples.CountryInf...</td>\n",
       "      <td>{'tLanguage': [{'sISOCode': 'ara', 'sName': 'A...</td>\n",
       "    </tr>\n",
       "    <tr>\n",
       "      <th>2</th>\n",
       "      <td>AF</td>\n",
       "      <td>Afghanistan</td>\n",
       "      <td>Kabul</td>\n",
       "      <td>93</td>\n",
       "      <td>AS</td>\n",
       "      <td>AFA</td>\n",
       "      <td>http://www.oorsprong.org/WebSamples.CountryInf...</td>\n",
       "      <td>{'tLanguage': [{'sISOCode': 'pus', 'sName': 'P...</td>\n",
       "    </tr>\n",
       "    <tr>\n",
       "      <th>3</th>\n",
       "      <td>AG</td>\n",
       "      <td>Antigua &amp; Barbuda</td>\n",
       "      <td>St. John's</td>\n",
       "      <td>1</td>\n",
       "      <td>AM</td>\n",
       "      <td>XCD</td>\n",
       "      <td>http://www.oorsprong.org/WebSamples.CountryInf...</td>\n",
       "      <td>{'tLanguage': [{'sISOCode': 'eng', 'sName': 'E...</td>\n",
       "    </tr>\n",
       "    <tr>\n",
       "      <th>4</th>\n",
       "      <td>AI</td>\n",
       "      <td>Anguilla</td>\n",
       "      <td>The Valley</td>\n",
       "      <td>264</td>\n",
       "      <td>AM</td>\n",
       "      <td>CAD</td>\n",
       "      <td>http://www.oorsprong.org/WebSamples.CountryInf...</td>\n",
       "      <td>None</td>\n",
       "    </tr>\n",
       "  </tbody>\n",
       "</table>\n",
       "</div>"
      ],
      "text/plain": [
       "  sISOCode                 sName      sCapitalCity sPhoneCode sContinentCode   \n",
       "0       AD               Andorra  Andorra La Ville        371             EU  \\\n",
       "1       AE  United Arab Emirates         Abu Dhabi        971             AS   \n",
       "2       AF           Afghanistan             Kabul         93             AS   \n",
       "3       AG     Antigua & Barbuda        St. John's          1             AM   \n",
       "4       AI              Anguilla        The Valley        264             AM   \n",
       "\n",
       "  sCurrencyISOCode                                       sCountryFlag   \n",
       "0              EUR  http://www.oorsprong.org/WebSamples.CountryInf...  \\\n",
       "1              AED  http://www.oorsprong.org/WebSamples.CountryInf...   \n",
       "2              AFA  http://www.oorsprong.org/WebSamples.CountryInf...   \n",
       "3              XCD  http://www.oorsprong.org/WebSamples.CountryInf...   \n",
       "4              CAD  http://www.oorsprong.org/WebSamples.CountryInf...   \n",
       "\n",
       "                                           Languages  \n",
       "0  {'tLanguage': [{'sISOCode': 'cat', 'sName': 'C...  \n",
       "1  {'tLanguage': [{'sISOCode': 'ara', 'sName': 'A...  \n",
       "2  {'tLanguage': [{'sISOCode': 'pus', 'sName': 'P...  \n",
       "3  {'tLanguage': [{'sISOCode': 'eng', 'sName': 'E...  \n",
       "4                                               None  "
      ]
     },
     "execution_count": 60,
     "metadata": {},
     "output_type": "execute_result"
    }
   ],
   "source": [
    "country_info_df = serialize_object(country_list) #read the zeep.objects.tCountryInfo\n",
    "\n",
    "df_country = pd.DataFrame(country_info_df)\n",
    "df_country.head()"
   ]
  },
  {
   "cell_type": "markdown",
   "metadata": {
    "id": "Pq_TCx0KUlPu"
   },
   "source": [
    "## Descrição POC\n",
    "\n",
    "Este código é um exemplo de como utilizar o Selenium e o Zeep para obter informações de um país por meio de um serviço da Web SOAP.\n",
    "\n",
    "A biblioteca Selenium é usada para automatizar interações com um navegador da Web. Neste código, a página da Web contendo o formulário é carregada usando o Selenium. Em seguida, o campo do país é preenchido com o valor \"US\" e o botão de pesquisa é clicado para obter informações sobre os Estados Unidos.\n",
    "\n",
    "O Zeep é uma biblioteca Python para trabalhar com serviços da Web SOAP. Neste código, ele é usado para chamar a função FullCountryInfo do serviço da Web, passando \"US\" como parâmetro. O resultado é armazenado na variável \"result\" e impresso no console.\n",
    "\n",
    "Ao usar SOAP, é necessário especificar a URL do WSDL do serviço da Web, que contém a descrição dos métodos disponíveis e dos parâmetros esperados.\n",
    "\n",
    "No geral, este código é uma prova de conceito (POC) de como combinar o Selenium e o Zeep para automatizar a interação com um formulário da Web e chamar um serviço da Web SOAP para obter informações sobre um país."
   ]
  },
  {
   "attachments": {},
   "cell_type": "markdown",
   "metadata": {
    "id": "4ksjiDtnVJj_"
   },
   "source": [
    "## Referências bibliográficas\n",
    "\n",
    "https://www.redhat.com/pt-br/topics/integration/whats-the-difference-between-soap-rest#:~:text=SOAP%20%C3%A9%20um%20protocolo%20padr%C3%A3o,tempo%20de%20carregamento%20das%20p%C3%A1ginas\n",
    "\n",
    "https://blog.tecnospeed.com.br/rest-x-soap/#:~:text=%C3%89%20mais%20usado%20quando%20se,por%20meio%20de%20diferentes%20interfaces"
   ]
  },
  {
   "cell_type": "markdown",
   "metadata": {},
   "source": []
  }
 ],
 "metadata": {
  "colab": {
   "provenance": []
  },
  "kernelspec": {
   "display_name": "Python 3 (ipykernel)",
   "language": "python",
   "name": "python3"
  },
  "language_info": {
   "codemirror_mode": {
    "name": "ipython",
    "version": 3
   },
   "file_extension": ".py",
   "mimetype": "text/x-python",
   "name": "python",
   "nbconvert_exporter": "python",
   "pygments_lexer": "ipython3",
   "version": "3.11.3"
  }
 },
 "nbformat": 4,
 "nbformat_minor": 1
}
